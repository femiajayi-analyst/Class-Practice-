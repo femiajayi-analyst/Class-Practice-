{
 "cells": [
  {
   "cell_type": "code",
   "execution_count": 11,
   "id": "cd3e809e-2382-4342-be81-ee8d1f0053f0",
   "metadata": {},
   "outputs": [],
   "source": [
    "import pandas as pd\n",
    "import numpy as np\n",
    "import seaborn as sns\n",
    "import matplotlib.pyplot as plt\n",
    "from sklearn.model_selection import train_test_split"
   ]
  },
  {
   "cell_type": "code",
   "execution_count": 12,
   "id": "a360cd6b-8f99-41fd-a75c-47ef54af868c",
   "metadata": {},
   "outputs": [
    {
     "name": "stdout",
     "output_type": "stream",
     "text": [
      "       X1     X2     X3      X4   X5  X6   X7  X8     Y1     Y2\n",
      "0    0.98  514.5  294.0  110.25  7.0   2  0.0   0  15.55  21.33\n",
      "1    0.98  514.5  294.0  110.25  7.0   3  0.0   0  15.55  21.33\n",
      "2    0.98  514.5  294.0  110.25  7.0   4  0.0   0  15.55  21.33\n",
      "3    0.98  514.5  294.0  110.25  7.0   5  0.0   0  15.55  21.33\n",
      "4    0.90  563.5  318.5  122.50  7.0   2  0.0   0  20.84  28.28\n",
      "..    ...    ...    ...     ...  ...  ..  ...  ..    ...    ...\n",
      "763  0.64  784.0  343.0  220.50  3.5   5  0.4   5  17.88  21.40\n",
      "764  0.62  808.5  367.5  220.50  3.5   2  0.4   5  16.54  16.88\n",
      "765  0.62  808.5  367.5  220.50  3.5   3  0.4   5  16.44  17.11\n",
      "766  0.62  808.5  367.5  220.50  3.5   4  0.4   5  16.48  16.61\n",
      "767  0.62  808.5  367.5  220.50  3.5   5  0.4   5  16.64  16.03\n",
      "\n",
      "[768 rows x 10 columns]\n"
     ]
    }
   ],
   "source": [
    "import pandas as pd\n",
    "energy = pd.read_excel('ENB2012_data.xlsx')\n",
    "print(energy)"
   ]
  },
  {
   "cell_type": "code",
   "execution_count": 13,
   "id": "50d1a604-a9ff-41a8-b0f1-85b10dbdb438",
   "metadata": {},
   "outputs": [
    {
     "data": {
      "text/plain": [
       "X1    0\n",
       "X2    0\n",
       "X3    0\n",
       "X4    0\n",
       "X5    0\n",
       "X6    0\n",
       "X7    0\n",
       "X8    0\n",
       "Y1    0\n",
       "Y2    0\n",
       "dtype: int64"
      ]
     },
     "execution_count": 13,
     "metadata": {},
     "output_type": "execute_result"
    }
   ],
   "source": [
    "energy.isnull().sum()"
   ]
  },
  {
   "cell_type": "code",
   "execution_count": 20,
   "id": "d9cce7a9-9563-4c64-9629-0a4f5f02a464",
   "metadata": {},
   "outputs": [],
   "source": [
    "#rename columns"
   ]
  },
  {
   "cell_type": "code",
   "execution_count": 14,
   "id": "b3f84ace-9a79-43b8-a0b1-39b2890d7f26",
   "metadata": {},
   "outputs": [
    {
     "name": "stdout",
     "output_type": "stream",
     "text": [
      "     Relative_Compactness  Surface_Area  Wall_Area  Roof_Area  Overall_Height  \\\n",
      "0                    0.98         514.5      294.0     110.25             7.0   \n",
      "1                    0.98         514.5      294.0     110.25             7.0   \n",
      "2                    0.98         514.5      294.0     110.25             7.0   \n",
      "3                    0.98         514.5      294.0     110.25             7.0   \n",
      "4                    0.90         563.5      318.5     122.50             7.0   \n",
      "..                    ...           ...        ...        ...             ...   \n",
      "763                  0.64         784.0      343.0     220.50             3.5   \n",
      "764                  0.62         808.5      367.5     220.50             3.5   \n",
      "765                  0.62         808.5      367.5     220.50             3.5   \n",
      "766                  0.62         808.5      367.5     220.50             3.5   \n",
      "767                  0.62         808.5      367.5     220.50             3.5   \n",
      "\n",
      "     Orientation  Glazing_Area  Glazing_Area_Distribution  Heating_Load  \\\n",
      "0              2           0.0                          0         15.55   \n",
      "1              3           0.0                          0         15.55   \n",
      "2              4           0.0                          0         15.55   \n",
      "3              5           0.0                          0         15.55   \n",
      "4              2           0.0                          0         20.84   \n",
      "..           ...           ...                        ...           ...   \n",
      "763            5           0.4                          5         17.88   \n",
      "764            2           0.4                          5         16.54   \n",
      "765            3           0.4                          5         16.44   \n",
      "766            4           0.4                          5         16.48   \n",
      "767            5           0.4                          5         16.64   \n",
      "\n",
      "     Cooling_Load  \n",
      "0           21.33  \n",
      "1           21.33  \n",
      "2           21.33  \n",
      "3           21.33  \n",
      "4           28.28  \n",
      "..            ...  \n",
      "763         21.40  \n",
      "764         16.88  \n",
      "765         17.11  \n",
      "766         16.61  \n",
      "767         16.03  \n",
      "\n",
      "[768 rows x 10 columns]\n"
     ]
    }
   ],
   "source": [
    "column_names = {'X1':'Relative_Compactness', 'X2': 'Surface_Area',\n",
    "'X3': 'Wall_Area', 'X4': 'Roof_Area', 'X5': 'Overall_Height',\n",
    "'X6': 'Orientation', 'X7': 'Glazing_Area',\n",
    "'X8': 'Glazing_Area_Distribution',\n",
    "'Y1': 'Heating_Load', 'Y2': 'Cooling_Load'}\n",
    "energy = energy.rename(columns=column_names)\n",
    "print (energy)"
   ]
  },
  {
   "cell_type": "code",
   "execution_count": 9,
   "id": "74629699-ad02-49f1-a5df-343321e3a6c8",
   "metadata": {},
   "outputs": [],
   "source": [
    "#select a sample of the datasets"
   ]
  },
  {
   "cell_type": "code",
   "execution_count": 15,
   "id": "bccc54ae-5abb-462f-987a-7441514ff8c4",
   "metadata": {},
   "outputs": [
    {
     "data": {
      "text/html": [
       "<div>\n",
       "<style scoped>\n",
       "    .dataframe tbody tr th:only-of-type {\n",
       "        vertical-align: middle;\n",
       "    }\n",
       "\n",
       "    .dataframe tbody tr th {\n",
       "        vertical-align: top;\n",
       "    }\n",
       "\n",
       "    .dataframe thead th {\n",
       "        text-align: right;\n",
       "    }\n",
       "</style>\n",
       "<table border=\"1\" class=\"dataframe\">\n",
       "  <thead>\n",
       "    <tr style=\"text-align: right;\">\n",
       "      <th></th>\n",
       "      <th>Relative_Compactness</th>\n",
       "      <th>Cooling_Load</th>\n",
       "    </tr>\n",
       "  </thead>\n",
       "  <tbody>\n",
       "    <tr>\n",
       "      <th>158</th>\n",
       "      <td>0.82</td>\n",
       "      <td>25.35</td>\n",
       "    </tr>\n",
       "    <tr>\n",
       "      <th>251</th>\n",
       "      <td>0.86</td>\n",
       "      <td>31.28</td>\n",
       "    </tr>\n",
       "    <tr>\n",
       "      <th>631</th>\n",
       "      <td>0.90</td>\n",
       "      <td>33.31</td>\n",
       "    </tr>\n",
       "    <tr>\n",
       "      <th>757</th>\n",
       "      <td>0.66</td>\n",
       "      <td>17.79</td>\n",
       "    </tr>\n",
       "    <tr>\n",
       "      <th>689</th>\n",
       "      <td>0.79</td>\n",
       "      <td>47.59</td>\n",
       "    </tr>\n",
       "    <tr>\n",
       "      <th>573</th>\n",
       "      <td>0.62</td>\n",
       "      <td>17.21</td>\n",
       "    </tr>\n",
       "    <tr>\n",
       "      <th>553</th>\n",
       "      <td>0.74</td>\n",
       "      <td>17.25</td>\n",
       "    </tr>\n",
       "    <tr>\n",
       "      <th>728</th>\n",
       "      <td>0.86</td>\n",
       "      <td>29.69</td>\n",
       "    </tr>\n",
       "    <tr>\n",
       "      <th>183</th>\n",
       "      <td>0.66</td>\n",
       "      <td>13.83</td>\n",
       "    </tr>\n",
       "    <tr>\n",
       "      <th>515</th>\n",
       "      <td>0.69</td>\n",
       "      <td>14.60</td>\n",
       "    </tr>\n",
       "    <tr>\n",
       "      <th>460</th>\n",
       "      <td>0.71</td>\n",
       "      <td>14.67</td>\n",
       "    </tr>\n",
       "    <tr>\n",
       "      <th>143</th>\n",
       "      <td>0.62</td>\n",
       "      <td>14.24</td>\n",
       "    </tr>\n",
       "    <tr>\n",
       "      <th>258</th>\n",
       "      <td>0.79</td>\n",
       "      <td>43.14</td>\n",
       "    </tr>\n",
       "    <tr>\n",
       "      <th>682</th>\n",
       "      <td>0.86</td>\n",
       "      <td>36.21</td>\n",
       "    </tr>\n",
       "    <tr>\n",
       "      <th>62</th>\n",
       "      <td>0.82</td>\n",
       "      <td>24.61</td>\n",
       "    </tr>\n",
       "  </tbody>\n",
       "</table>\n",
       "</div>"
      ],
      "text/plain": [
       "     Relative_Compactness  Cooling_Load\n",
       "158                  0.82         25.35\n",
       "251                  0.86         31.28\n",
       "631                  0.90         33.31\n",
       "757                  0.66         17.79\n",
       "689                  0.79         47.59\n",
       "573                  0.62         17.21\n",
       "553                  0.74         17.25\n",
       "728                  0.86         29.69\n",
       "183                  0.66         13.83\n",
       "515                  0.69         14.60\n",
       "460                  0.71         14.67\n",
       "143                  0.62         14.24\n",
       "258                  0.79         43.14\n",
       "682                  0.86         36.21\n",
       "62                   0.82         24.61"
      ]
     },
     "execution_count": 15,
     "metadata": {},
     "output_type": "execute_result"
    }
   ],
   "source": [
    "simple_linear_reg_energy = energy[['Relative_Compactness', 'Cooling_Load']].sample(15, random_state=2)\n",
    "simple_linear_reg_energy"
   ]
  },
  {
   "cell_type": "code",
   "execution_count": 11,
   "id": "3703ac5e-fa3b-4e47-b063-bfd976554493",
   "metadata": {},
   "outputs": [],
   "source": [
    "#regression plot"
   ]
  },
  {
   "cell_type": "code",
   "execution_count": 6,
   "id": "697cfb98-407c-4e04-9204-5fb2fc9bf5f5",
   "metadata": {},
   "outputs": [
    {
     "data": {
      "text/plain": [
       "<AxesSubplot:xlabel='Relative_Compactness', ylabel='Cooling_Load'>"
      ]
     },
     "execution_count": 6,
     "metadata": {},
     "output_type": "execute_result"
    },
    {
     "data": {
      "image/png": "[encoded data removed]",
      "text/plain": [
       "<Figure size 432x288 with 1 Axes>"
      ]
     },
     "metadata": {
      "needs_background": "light"
     },
     "output_type": "display_data"
    }
   ],
   "source": [
    "import seaborn as sns\n",
    "sns.regplot(x=\"Relative_Compactness\", y=\"Cooling_Load\", data=simple_linear_reg_energy)"
   ]
  },
  {
   "cell_type": "code",
   "execution_count": 7,
   "id": "38d79fee-b65b-4334-b73c-da4a44dc7fe8",
   "metadata": {},
   "outputs": [],
   "source": [
    "from sklearn.preprocessing import MinMaxScaler\n",
    "\n",
    "\n",
    "scaler = MinMaxScaler()\n",
    "normalised_df = pd.DataFrame(scaler.fit_transform(energy), columns=energy.columns).dropna(axis=1)\n",
    "features_df = normalised_df.drop(columns=['Heating_Load', 'Cooling_Load']).dropna(axis=1)"
   ]
  },
  {
   "cell_type": "code",
   "execution_count": 37,
   "id": "6bc6bc60-e35d-430b-994a-fdecf255c79c",
   "metadata": {},
   "outputs": [],
   "source": [
    "#Firstly, we normalise our dataset to a common scale using the min max scaler"
   ]
  },
  {
   "cell_type": "code",
   "execution_count": 18,
   "id": "e20bbc32-3d7e-4231-9fd3-d20be6a3cb19",
   "metadata": {},
   "outputs": [
    {
     "name": "stdout",
     "output_type": "stream",
     "text": [
      "0      0.257212\n",
      "1      0.257212\n",
      "2      0.257212\n",
      "3      0.257212\n",
      "4      0.399838\n",
      "         ...   \n",
      "763    0.320032\n",
      "764    0.283904\n",
      "765    0.281208\n",
      "766    0.282286\n",
      "767    0.286600\n",
      "Name: Heating_Load, Length: 768, dtype: float64\n"
     ]
    }
   ],
   "source": [
    "heating_target = normalised_df['Heating_Load']\n",
    "print(heating_target)"
   ]
  },
  {
   "cell_type": "code",
   "execution_count": 19,
   "id": "3deda1bb-6533-4d3a-8a2d-a6388832eb3c",
   "metadata": {},
   "outputs": [],
   "source": [
    "x_train, x_test, y_train, y_test = train_test_split(features_df, heating_target, test_size=0.3, random_state=1)"
   ]
  },
  {
   "cell_type": "code",
   "execution_count": 33,
   "id": "c9e8151f-f3cd-4aad-b626-142cebe1337d",
   "metadata": {},
   "outputs": [],
   "source": [
    "from sklearn import linear_model\n",
    "from sklearn.linear_model import LinearRegression\n",
    "\n",
    "linear_model = LinearRegression()\n",
    "linear_model.fit(x_train, y_train)\n",
    "predicted_values = linear_model.predict(x_test)"
   ]
  },
  {
   "cell_type": "code",
   "execution_count": 34,
   "id": "6ae44205-28d2-4075-bd69-d1412c154821",
   "metadata": {},
   "outputs": [
    {
     "data": {
      "text/plain": [
       "0.063"
      ]
     },
     "execution_count": 34,
     "metadata": {},
     "output_type": "execute_result"
    }
   ],
   "source": [
    "from sklearn.metrics import mean_absolute_error\n",
    "\n",
    "mae = mean_absolute_error(y_test, predicted_values)\n",
    "round(mae, 3)"
   ]
  },
  {
   "cell_type": "markdown",
   "id": "b3a899bf-a9cc-4c51-a845-532a6b248bfe",
   "metadata": {},
   "source": [
    "RESIDUAL SUM OF SQUARE"
   ]
  },
  {
   "cell_type": "code",
   "execution_count": 35,
   "id": "ba301977-a1b5-45de-8850-fe431e12f43e",
   "metadata": {},
   "outputs": [
    {
     "data": {
      "text/plain": [
       "1.817"
      ]
     },
     "execution_count": 35,
     "metadata": {},
     "output_type": "execute_result"
    }
   ],
   "source": [
    "rss = np.sum(np.square(y_test - predicted_values))\n",
    "round(rss, 3)"
   ]
  },
  {
   "cell_type": "markdown",
   "id": "a4e8cac1-02cf-42a6-aa76-251b815bf7c6",
   "metadata": {},
   "source": [
    "ROOT MEAN SQUARE ERROR"
   ]
  },
  {
   "cell_type": "code",
   "execution_count": 36,
   "id": "f57f3bfc-066a-44b9-ba30-9d692b4bdabe",
   "metadata": {},
   "outputs": [
    {
     "data": {
      "text/plain": [
       "0.089"
      ]
     },
     "execution_count": 36,
     "metadata": {},
     "output_type": "execute_result"
    }
   ],
   "source": [
    "from sklearn.metrics import mean_squared_error\n",
    "rmse = np.sqrt(mean_squared_error(y_test, predicted_values))\n",
    "round(rmse, 3)"
   ]
  },
  {
   "cell_type": "markdown",
   "id": "256e0d7a-5548-47f8-a7f0-3c99405f5e0e",
   "metadata": {},
   "source": [
    "R SQUARED"
   ]
  },
  {
   "cell_type": "code",
   "execution_count": 37,
   "id": "cbe3592d-21e2-4de3-a428-144460e0ad1f",
   "metadata": {},
   "outputs": [
    {
     "data": {
      "text/plain": [
       "0.894"
      ]
     },
     "execution_count": 37,
     "metadata": {},
     "output_type": "execute_result"
    }
   ],
   "source": [
    "from sklearn.metrics import r2_score\n",
    "r2_score = r2_score(y_test, predicted_values)\n",
    "round(r2_score, 3) "
   ]
  },
  {
   "cell_type": "code",
   "execution_count": 38,
   "id": "102ca22c-bfed-4089-9bf1-906679b45860",
   "metadata": {},
   "outputs": [
    {
     "data": {
      "text/plain": [
       "Ridge(alpha=0.5)"
      ]
     },
     "execution_count": 38,
     "metadata": {},
     "output_type": "execute_result"
    }
   ],
   "source": [
    "from sklearn.linear_model import Ridge\n",
    "\n",
    "ridge_reg = Ridge(alpha=0.5)\n",
    "ridge_reg.fit(x_train, y_train)"
   ]
  },
  {
   "cell_type": "code",
   "execution_count": 39,
   "id": "7729372c-03ba-496a-95ad-070af1950a08",
   "metadata": {},
   "outputs": [
    {
     "data": {
      "text/plain": [
       "Lasso(alpha=0.001)"
      ]
     },
     "execution_count": 39,
     "metadata": {},
     "output_type": "execute_result"
    }
   ],
   "source": [
    "from sklearn.linear_model import Lasso\n",
    "\n",
    "lasso_reg = Lasso(alpha=0.001)\n",
    "lasso_reg.fit(x_train, y_train)"
   ]
  },
  {
   "cell_type": "code",
   "execution_count": 40,
   "id": "84b9ef9a-7d12-4d80-b3e7-070185c2edc0",
   "metadata": {},
   "outputs": [],
   "source": [
    "def get_weights_df(model, feat, col_name):\n",
    "    weights = pd.Series(model.coef_,feat.columns).sort_values()\n",
    "    weights_df = pd.DataFrame(weights).reset_index()\n",
    "    weights_df.columns = ['Features', col_name]\n",
    "    weights_df[col_name].round(3)\n",
    "    return weights_df"
   ]
  },
  {
   "cell_type": "code",
   "execution_count": 41,
   "id": "1bc0ab3a-5a42-41b5-8d63-94bc8b312678",
   "metadata": {},
   "outputs": [
    {
     "name": "stdout",
     "output_type": "stream",
     "text": [
      "                    Features  Linear_Model_Weight  Ridge_Weight  Lasso_weight\n",
      "0       Relative_Compactness            -0.606412     -0.283471     -0.027719\n",
      "1                  Roof_Area            -0.328099     -0.163192     -0.000000\n",
      "2               Surface_Area            -0.235022     -0.062275      0.000000\n",
      "3                Orientation             0.003399      0.003369      0.000000\n",
      "4                  Wall_Area             0.018947      0.103061      0.200087\n",
      "5  Glazing_Area_Distribution             0.028452      0.029088      0.021431\n",
      "6               Glazing_Area             0.215042      0.212449      0.206132\n",
      "7             Overall_Height             0.393549      0.442467      0.463482\n"
     ]
    }
   ],
   "source": [
    "linear_model_weight = LinearRegression()\n",
    "\n",
    "linear_model_weights = get_weights_df(linear_model, x_train, 'Linear_Model_Weight')\n",
    "ridge_weights_df = get_weights_df(ridge_reg, x_train, 'Ridge_Weight')\n",
    "lasso_weights_df = get_weights_df(lasso_reg, x_train, 'Lasso_weight')\n",
    "final_weights = pd.merge(linear_model_weights, ridge_weights_df, on='Features')\n",
    "final_weights = pd.merge(final_weights, lasso_weights_df, on='Features')\n",
    "print(final_weights)"
   ]
  },
  {
   "cell_type": "code",
   "execution_count": null,
   "id": "e521c6f5-8944-44c4-8a11-e3ad90a5b770",
   "metadata": {},
   "outputs": [],
   "source": []
  }
 ],
 "metadata": {
  "kernelspec": {
   "display_name": "Python 3 (ipykernel)",
   "language": "python",
   "name": "python3"
  },
  "language_info": {
   "codemirror_mode": {
    "name": "ipython",
    "version": 3
   },
   "file_extension": ".py",
   "mimetype": "text/x-python",
   "name": "python",
   "nbconvert_exporter": "python",
   "pygments_lexer": "ipython3",
   "version": "3.9.7"
  }
 },
 "nbformat": 4,
 "nbformat_minor": 5
}
